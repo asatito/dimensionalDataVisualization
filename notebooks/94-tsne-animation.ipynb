{
 "cells": [
  {
   "cell_type": "markdown",
   "metadata": {},
   "source": [
    "# Visualizing High-Dimensional Data with Python\n",
    "\n",
    "Instructor: [Jeroen Janssens](https://jeroenjanssens.com)\n",
    "\n",
    "## t-SNE animation\n",
    "\n",
    "![](https://raw.githubusercontent.com/KellerJordan/figures/master/mnist70k-tsne.gif)\n",
    "\n",
    "Source: https://github.com/KellerJordan/tSNE-Animation"
   ]
  }
 ],
 "metadata": {
  "kernelspec": {
   "display_name": "Python 3",
   "language": "python",
   "name": "python3"
  },
  "language_info": {
   "codemirror_mode": {
    "name": "ipython",
    "version": 3
   },
   "file_extension": ".py",
   "mimetype": "text/x-python",
   "name": "python",
   "nbconvert_exporter": "python",
   "pygments_lexer": "ipython3",
   "version": "3.7.6"
  }
 },
 "nbformat": 4,
 "nbformat_minor": 4
}
