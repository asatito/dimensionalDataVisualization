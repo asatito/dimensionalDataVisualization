{
 "cells": [
  {
   "cell_type": "markdown",
   "metadata": {},
   "source": [
    "# Visualizing High-Dimensional Data with Python\n",
    "\n",
    "Instructor: [Jeroen Janssens](https://jeroenjanssens.com)\n",
    "\n",
    "## Demonstrating some helper functions"
   ]
  },
  {
   "cell_type": "code",
   "execution_count": 1,
   "metadata": {},
   "outputs": [],
   "source": [
    "import pandas as pd\n",
    "import numpy as np\n",
    "from plotnine import *\n",
    "\n",
    "from sklearn.datasets import make_blobs\n",
    "\n",
    "from helpers import *"
   ]
  },
  {
   "cell_type": "code",
   "execution_count": 2,
   "metadata": {},
   "outputs": [],
   "source": [
    "np.random.seed(42)"
   ]
  },
  {
   "cell_type": "code",
   "execution_count": 3,
   "metadata": {},
   "outputs": [
    {
     "data": {
      "text/plain": [
       "\u001b[0;31mSignature:\u001b[0m\n",
       "\u001b[0mmake_blobs\u001b[0m\u001b[0;34m(\u001b[0m\u001b[0;34m\u001b[0m\n",
       "\u001b[0;34m\u001b[0m    \u001b[0mn_samples\u001b[0m\u001b[0;34m=\u001b[0m\u001b[0;36m100\u001b[0m\u001b[0;34m,\u001b[0m\u001b[0;34m\u001b[0m\n",
       "\u001b[0;34m\u001b[0m    \u001b[0mn_features\u001b[0m\u001b[0;34m=\u001b[0m\u001b[0;36m2\u001b[0m\u001b[0;34m,\u001b[0m\u001b[0;34m\u001b[0m\n",
       "\u001b[0;34m\u001b[0m    \u001b[0mcenters\u001b[0m\u001b[0;34m=\u001b[0m\u001b[0;32mNone\u001b[0m\u001b[0;34m,\u001b[0m\u001b[0;34m\u001b[0m\n",
       "\u001b[0;34m\u001b[0m    \u001b[0mcluster_std\u001b[0m\u001b[0;34m=\u001b[0m\u001b[0;36m1.0\u001b[0m\u001b[0;34m,\u001b[0m\u001b[0;34m\u001b[0m\n",
       "\u001b[0;34m\u001b[0m    \u001b[0mcenter_box\u001b[0m\u001b[0;34m=\u001b[0m\u001b[0;34m(\u001b[0m\u001b[0;34m-\u001b[0m\u001b[0;36m10.0\u001b[0m\u001b[0;34m,\u001b[0m \u001b[0;36m10.0\u001b[0m\u001b[0;34m)\u001b[0m\u001b[0;34m,\u001b[0m\u001b[0;34m\u001b[0m\n",
       "\u001b[0;34m\u001b[0m    \u001b[0mshuffle\u001b[0m\u001b[0;34m=\u001b[0m\u001b[0;32mTrue\u001b[0m\u001b[0;34m,\u001b[0m\u001b[0;34m\u001b[0m\n",
       "\u001b[0;34m\u001b[0m    \u001b[0mrandom_state\u001b[0m\u001b[0;34m=\u001b[0m\u001b[0;32mNone\u001b[0m\u001b[0;34m,\u001b[0m\u001b[0;34m\u001b[0m\n",
       "\u001b[0;34m\u001b[0m\u001b[0;34m)\u001b[0m\u001b[0;34m\u001b[0m\u001b[0;34m\u001b[0m\u001b[0m\n",
       "\u001b[0;31mDocstring:\u001b[0m\n",
       "Generate isotropic Gaussian blobs for clustering.\n",
       "\n",
       "Read more in the :ref:`User Guide <sample_generators>`.\n",
       "\n",
       "Parameters\n",
       "----------\n",
       "n_samples : int or array-like, optional (default=100)\n",
       "    If int, it is the total number of points equally divided among\n",
       "    clusters.\n",
       "    If array-like, each element of the sequence indicates\n",
       "    the number of samples per cluster.\n",
       "\n",
       "n_features : int, optional (default=2)\n",
       "    The number of features for each sample.\n",
       "\n",
       "centers : int or array of shape [n_centers, n_features], optional\n",
       "    (default=None)\n",
       "    The number of centers to generate, or the fixed center locations.\n",
       "    If n_samples is an int and centers is None, 3 centers are generated.\n",
       "    If n_samples is array-like, centers must be\n",
       "    either None or an array of length equal to the length of n_samples.\n",
       "\n",
       "cluster_std : float or sequence of floats, optional (default=1.0)\n",
       "    The standard deviation of the clusters.\n",
       "\n",
       "center_box : pair of floats (min, max), optional (default=(-10.0, 10.0))\n",
       "    The bounding box for each cluster center when centers are\n",
       "    generated at random.\n",
       "\n",
       "shuffle : boolean, optional (default=True)\n",
       "    Shuffle the samples.\n",
       "\n",
       "random_state : int, RandomState instance or None (default)\n",
       "    Determines random number generation for dataset creation. Pass an int\n",
       "    for reproducible output across multiple function calls.\n",
       "    See :term:`Glossary <random_state>`.\n",
       "\n",
       "Returns\n",
       "-------\n",
       "X : array of shape [n_samples, n_features]\n",
       "    The generated samples.\n",
       "\n",
       "y : array of shape [n_samples]\n",
       "    The integer labels for cluster membership of each sample.\n",
       "\n",
       "Examples\n",
       "--------\n",
       ">>> from sklearn.datasets import make_blobs\n",
       ">>> X, y = make_blobs(n_samples=10, centers=3, n_features=2,\n",
       "...                   random_state=0)\n",
       ">>> print(X.shape)\n",
       "(10, 2)\n",
       ">>> y\n",
       "array([0, 0, 1, 0, 2, 2, 2, 1, 1, 0])\n",
       ">>> X, y = make_blobs(n_samples=[3, 3, 4], centers=None, n_features=2,\n",
       "...                   random_state=0)\n",
       ">>> print(X.shape)\n",
       "(10, 2)\n",
       ">>> y\n",
       "array([0, 1, 2, 0, 2, 2, 2, 1, 1, 0])\n",
       "\n",
       "See also\n",
       "--------\n",
       "make_classification: a more intricate variant\n",
       "\u001b[0;31mFile:\u001b[0m      /opt/conda/lib/python3.7/site-packages/sklearn/datasets/_samples_generator.py\n",
       "\u001b[0;31mType:\u001b[0m      function\n"
      ]
     },
     "metadata": {},
     "output_type": "display_data"
    }
   ],
   "source": [
    "make_blobs?"
   ]
  },
  {
   "cell_type": "code",
   "execution_count": 4,
   "metadata": {},
   "outputs": [
    {
     "data": {
      "text/plain": [
       "(array([[-7.72642091, -8.39495682],\n",
       "        [ 5.45339605,  0.74230537],\n",
       "        [-2.97867201,  9.55684617],\n",
       "        [ 6.04267315,  0.57131862],\n",
       "        [-6.52183983, -6.31932507],\n",
       "        [ 3.64934251,  1.40687195],\n",
       "        [-2.17793419,  9.98983126],\n",
       "        [ 4.42020695,  2.33028226],\n",
       "        [ 4.73695639,  2.94181467],\n",
       "        [-3.6601912 ,  9.38998415],\n",
       "        [-3.05358035,  9.12520872],\n",
       "        [-6.65216726, -5.57296684],\n",
       "        [-6.35768563, -6.58312492],\n",
       "        [-3.6155326 ,  7.8180795 ],\n",
       "        [-1.77073104,  9.18565441],\n",
       "        [-7.95051969, -6.39763718],\n",
       "        [-6.60293639, -6.05292634],\n",
       "        [-2.58120774, 10.01781903],\n",
       "        [-7.76348463, -6.72638449],\n",
       "        [-6.40638957, -6.95293851],\n",
       "        [-2.97261532,  8.54855637],\n",
       "        [-6.9567289 , -6.53895762],\n",
       "        [-7.32614214, -6.0237108 ],\n",
       "        [-2.14780202, 10.55232269],\n",
       "        [-2.54502366, 10.57892978],\n",
       "        [-2.96983639, 10.07140835],\n",
       "        [ 3.22450809,  1.55252436],\n",
       "        [-6.25395984, -7.73726715],\n",
       "        [-7.85430886, -6.09302499],\n",
       "        [-8.1165779 , -8.20056621],\n",
       "        [-7.55965191, -6.6478559 ],\n",
       "        [ 4.93599911,  2.23422496],\n",
       "        [ 4.44751787,  2.27471703],\n",
       "        [-5.72103161, -7.70079191],\n",
       "        [-0.92998481,  9.78172086],\n",
       "        [-3.10983631,  8.72259238],\n",
       "        [-2.44166942,  7.58953794],\n",
       "        [-2.18511365,  8.62920385],\n",
       "        [ 5.55528095,  2.30192079],\n",
       "        [ 4.73163961, -0.01439923],\n",
       "        [-8.25729656, -7.81793463],\n",
       "        [-2.98837186,  8.82862715],\n",
       "        [ 4.60516707,  0.80449165],\n",
       "        [-3.83738367,  9.21114736],\n",
       "        [-2.62484591,  8.71318243],\n",
       "        [ 3.57757512,  2.44676211],\n",
       "        [-8.48711043, -6.69547573],\n",
       "        [-6.70644627, -6.49479221],\n",
       "        [-6.8666253 , -5.42657552],\n",
       "        [ 3.83138523,  1.47141264],\n",
       "        [ 2.02013373,  2.79507219],\n",
       "        [ 4.64499229,  1.73858255],\n",
       "        [-1.6966718 , 10.37052616],\n",
       "        [-6.6197444 , -6.09828672],\n",
       "        [-6.05756703, -4.98331661],\n",
       "        [-7.10308998, -6.1661091 ],\n",
       "        [-3.52202874,  9.32853346],\n",
       "        [-2.26723535,  7.10100588],\n",
       "        [ 6.11777288,  1.45489947],\n",
       "        [-4.23411546,  8.4519986 ],\n",
       "        [-6.58655472, -7.59446101],\n",
       "        [ 3.93782574,  1.64550754],\n",
       "        [-7.12501531, -7.63384576],\n",
       "        [ 2.72110762,  1.94665581],\n",
       "        [-7.14428402, -4.15994043],\n",
       "        [-6.66553345, -8.12584837],\n",
       "        [ 4.70010905,  4.4364118 ],\n",
       "        [-7.76914162, -7.69591988],\n",
       "        [ 4.11011863,  2.48643712],\n",
       "        [ 4.89742923,  1.89872377],\n",
       "        [ 4.29716432,  1.17089241],\n",
       "        [-6.62913434, -6.53366138],\n",
       "        [-8.07093069, -6.22355598],\n",
       "        [-2.16557933,  7.25124597],\n",
       "        [ 4.7395302 ,  1.46969403],\n",
       "        [-5.91625106, -6.46732867],\n",
       "        [ 5.43091078,  1.06378223],\n",
       "        [-6.82141847, -8.02307989],\n",
       "        [ 6.52606474,  2.1477475 ],\n",
       "        [ 3.08921541,  2.04173266],\n",
       "        [-2.1475616 ,  8.36916637],\n",
       "        [ 3.85662554,  1.65110817],\n",
       "        [-1.68665271,  7.79344248],\n",
       "        [-5.01385268, -6.40627667],\n",
       "        [-2.52269485,  7.9565752 ],\n",
       "        [-2.30033403,  7.054616  ],\n",
       "        [-1.04354885,  8.78850983],\n",
       "        [ 3.7204546 ,  3.52310409],\n",
       "        [-3.98771961,  8.29444192],\n",
       "        [ 4.24777068,  0.50965474],\n",
       "        [ 4.7269259 ,  1.67416233],\n",
       "        [ 5.78270165,  2.72510272],\n",
       "        [-3.4172217 ,  7.60198243],\n",
       "        [ 5.22673593,  4.16362531],\n",
       "        [-3.11090424, 10.86656431],\n",
       "        [-3.18611962,  9.62596242],\n",
       "        [-1.4781981 ,  9.94556625],\n",
       "        [ 4.47859312,  2.37722054],\n",
       "        [-5.79657595, -5.82630754],\n",
       "        [-3.34841515,  8.70507375]]),\n",
       " array([2, 1, 0, 1, 2, 1, 0, 1, 1, 0, 0, 2, 2, 0, 0, 2, 2, 0, 2, 2, 0, 2,\n",
       "        2, 0, 0, 0, 1, 2, 2, 2, 2, 1, 1, 2, 0, 0, 0, 0, 1, 1, 2, 0, 1, 0,\n",
       "        0, 1, 2, 2, 2, 1, 1, 1, 0, 2, 2, 2, 0, 0, 1, 0, 2, 1, 2, 1, 2, 2,\n",
       "        1, 2, 1, 1, 1, 2, 2, 0, 1, 2, 1, 2, 1, 1, 0, 1, 0, 2, 0, 0, 0, 1,\n",
       "        0, 1, 1, 1, 0, 1, 0, 0, 0, 1, 2, 0]))"
      ]
     },
     "execution_count": 4,
     "metadata": {},
     "output_type": "execute_result"
    }
   ],
   "source": [
    "blobs = make_blobs()\n",
    "\n",
    "blobs"
   ]
  },
  {
   "cell_type": "code",
   "execution_count": 5,
   "metadata": {},
   "outputs": [
    {
     "data": {
      "text/html": [
       "<div>\n",
       "<style scoped>\n",
       "    .dataframe tbody tr th:only-of-type {\n",
       "        vertical-align: middle;\n",
       "    }\n",
       "\n",
       "    .dataframe tbody tr th {\n",
       "        vertical-align: top;\n",
       "    }\n",
       "\n",
       "    .dataframe thead th {\n",
       "        text-align: right;\n",
       "    }\n",
       "</style>\n",
       "<table border=\"1\" class=\"dataframe\">\n",
       "  <thead>\n",
       "    <tr style=\"text-align: right;\">\n",
       "      <th></th>\n",
       "      <th>x</th>\n",
       "      <th>y</th>\n",
       "      <th>target</th>\n",
       "    </tr>\n",
       "  </thead>\n",
       "  <tbody>\n",
       "    <tr>\n",
       "      <th>0</th>\n",
       "      <td>-7.726421</td>\n",
       "      <td>-8.394957</td>\n",
       "      <td>2</td>\n",
       "    </tr>\n",
       "    <tr>\n",
       "      <th>1</th>\n",
       "      <td>5.453396</td>\n",
       "      <td>0.742305</td>\n",
       "      <td>1</td>\n",
       "    </tr>\n",
       "    <tr>\n",
       "      <th>2</th>\n",
       "      <td>-2.978672</td>\n",
       "      <td>9.556846</td>\n",
       "      <td>0</td>\n",
       "    </tr>\n",
       "    <tr>\n",
       "      <th>3</th>\n",
       "      <td>6.042673</td>\n",
       "      <td>0.571319</td>\n",
       "      <td>1</td>\n",
       "    </tr>\n",
       "    <tr>\n",
       "      <th>4</th>\n",
       "      <td>-6.521840</td>\n",
       "      <td>-6.319325</td>\n",
       "      <td>2</td>\n",
       "    </tr>\n",
       "  </tbody>\n",
       "</table>\n",
       "</div>"
      ],
      "text/plain": [
       "          x         y  target\n",
       "0 -7.726421 -8.394957       2\n",
       "1  5.453396  0.742305       1\n",
       "2 -2.978672  9.556846       0\n",
       "3  6.042673  0.571319       1\n",
       "4 -6.521840 -6.319325       2"
      ]
     },
     "execution_count": 5,
     "metadata": {},
     "output_type": "execute_result"
    }
   ],
   "source": [
    "df = make_df(*blobs)\n",
    "\n",
    "df.head()"
   ]
  },
  {
   "cell_type": "code",
   "execution_count": 6,
   "metadata": {},
   "outputs": [
    {
     "data": {
      "image/png": "[encoded data removed]",
      "text/plain": [
       "<Figure size 640x480 with 1 Axes>"
      ]
     },
     "metadata": {},
     "output_type": "display_data"
    },
    {
     "data": {
      "text/plain": [
       "<ggplot: (8747304255821)>"
      ]
     },
     "execution_count": 6,
     "metadata": {},
     "output_type": "execute_result"
    }
   ],
   "source": [
    "plot(df)"
   ]
  },
  {
   "cell_type": "markdown",
   "metadata": {},
   "source": [
    "### Note\n",
    "\n",
    "It's totally fine if you prefer to use a different package for plotting! For example, seaborn:"
   ]
  },
  {
   "cell_type": "code",
   "execution_count": 7,
   "metadata": {},
   "outputs": [],
   "source": [
    "import seaborn as sns\n",
    "sns.set_style('darkgrid')"
   ]
  },
  {
   "cell_type": "code",
   "execution_count": 8,
   "metadata": {},
   "outputs": [
    {
     "data": {
      "text/plain": [
       "<matplotlib.axes._subplots.AxesSubplot at 0x7f4a3da3a890>"
      ]
     },
     "execution_count": 8,
     "metadata": {},
     "output_type": "execute_result"
    },
    {
     "data": {
      "image/png": "[encoded data removed]",
      "text/plain": [
       "<Figure size 432x288 with 1 Axes>"
      ]
     },
     "metadata": {},
     "output_type": "display_data"
    }
   ],
   "source": [
    "sns.scatterplot('x', 'y', 'target', data=df)"
   ]
  },
  {
   "cell_type": "markdown",
   "metadata": {},
   "source": [
    "### Fin"
   ]
  }
 ],
 "metadata": {
  "kernelspec": {
   "display_name": "Python 3",
   "language": "python",
   "name": "python3"
  },
  "language_info": {
   "codemirror_mode": {
    "name": "ipython",
    "version": 3
   },
   "file_extension": ".py",
   "mimetype": "text/x-python",
   "name": "python",
   "nbconvert_exporter": "python",
   "pygments_lexer": "ipython3",
   "version": "3.7.6"
  }
 },
 "nbformat": 4,
 "nbformat_minor": 4
}
