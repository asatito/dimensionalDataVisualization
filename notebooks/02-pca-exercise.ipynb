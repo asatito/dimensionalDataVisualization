{
 "cells": [
  {
   "cell_type": "markdown",
   "metadata": {},
   "source": [
    "# Visualizing High-Dimensional Data with Python\n",
    "\n",
    "Instructor: [Jeroen Janssens](https://jeroenjanssens.com)\n",
    "\n",
    "## PCA Exercise\n",
    "\n",
    "### Exercise details\n",
    "\n",
    "In this exercise, you'll apply PCA to the Luv dataset, which contains 657 colors in Luv color space. The code below is missing some pieces, denoted by three dots (`...`). Your job is to fill in the correct values."
   ]
  },
  {
   "cell_type": "code",
   "execution_count": null,
   "metadata": {},
   "outputs": [],
   "source": [
    "# Load the Luv dataset from the plotnine package\n",
    "from plotnine.data import luv_colours\n",
    "luv_colours"
   ]
  },
  {
   "cell_type": "code",
   "execution_count": null,
   "metadata": {},
   "outputs": [],
   "source": [
    "# Remove all columns that shouldn't be used as features\n",
    "luv = luv_colours.drop(..., axis=1)"
   ]
  },
  {
   "cell_type": "code",
   "execution_count": null,
   "metadata": {},
   "outputs": [],
   "source": [
    "# Import the PCA class from scikit-learn\n",
    "from sklearn... import ..."
   ]
  },
  {
   "cell_type": "code",
   "execution_count": null,
   "metadata": {},
   "outputs": [],
   "source": [
    "# Apply PCA\n",
    "pca = PCA(n_components=2)\n",
    "luv_mapped = pca.fit_transform(luv)\n",
    "\n",
    "luv_mapped"
   ]
  },
  {
   "cell_type": "code",
   "execution_count": null,
   "metadata": {},
   "outputs": [],
   "source": [
    "# Turn result into a DataFrame and plot result.\n",
    "# Remember: you're free to use any plotting library you like.\n",
    "from helpers import *\n",
    "df = ...(...)\n",
    "\n",
    "# Plot result\n",
    "...(df)"
   ]
  },
  {
   "cell_type": "markdown",
   "metadata": {},
   "source": [
    "### Bonus challenge 1: Use the actual colors in the scatter plot\n",
    "\n",
    "#### Install the package colormath"
   ]
  },
  {
   "cell_type": "code",
   "execution_count": null,
   "metadata": {},
   "outputs": [],
   "source": [
    "! pip install colormath"
   ]
  },
  {
   "cell_type": "markdown",
   "metadata": {},
   "source": [
    "#### Convert Luv colors to RGB"
   ]
  },
  {
   "cell_type": "code",
   "execution_count": null,
   "metadata": {},
   "outputs": [],
   "source": [
    "# This piece of code converts Luv to RGB in hex format\n",
    "from colormath.color_objects import LuvColor, sRGBColor\n",
    "from colormath.color_conversions import convert_color\n",
    "\n",
    "def luv2hex(row):\n",
    "    rgb = convert_color(LuvColor(*(row/100)), sRGBColor)\n",
    "    rgb.rgb_r = rgb.clamped_rgb_r\n",
    "    rgb.rgb_g = rgb.clamped_rgb_g\n",
    "    rgb.rgb_b = rgb.clamped_rgb_b\n",
    "    return rgb.get_rgb_hex()\n",
    "\n",
    "# Get the hex color for all rows\n",
    "df[\"...\"] = luv_colours.drop(\"col\", axis=1).apply(luv2hex, axis=1)"
   ]
  },
  {
   "cell_type": "markdown",
   "metadata": {},
   "source": [
    "#### Plot the result"
   ]
  },
  {
   "cell_type": "code",
   "execution_count": null,
   "metadata": {},
   "outputs": [],
   "source": [
    "# We cannot use the helper function plot here because we need assign a unique\n",
    "# color to each point\n",
    "ggplot(df, aes(x=\"...\", y=\"...\", color=\"...\")) +\\\n",
    "geom_...() +\\\n",
    "scale_color_identity() +\\\n",
    "theme_void()"
   ]
  },
  {
   "cell_type": "markdown",
   "metadata": {},
   "source": [
    "### Bonus challenge 2: Implement a biplot\n",
    "\n",
    "Draw the axes of the original features as lines, with a label, similar to:\n",
    "\n",
    "![](https://blog.bioturing.com/wp-content/uploads/2018/11/PCA-bi-plot.png)\n",
    "\n",
    "Hint: Think of the starts and ends of each line as data points and use the fitted PCA object to transform them to the lower-dimensional space."
   ]
  },
  {
   "cell_type": "code",
   "execution_count": null,
   "metadata": {},
   "outputs": [],
   "source": [
    "import numpy as np\n",
    "import pandas as pd"
   ]
  },
  {
   "cell_type": "code",
   "execution_count": null,
   "metadata": {},
   "outputs": [],
   "source": [
    "# This code can be used to plot both the data points and the original axes as lines with labels.\n",
    "# ggplot expects a DataFrame called df_axes containing three rows, one for each original feature,\n",
    "# and the columns: x, y, xo, yo, label. Again, feel free to use any other plotting library.\n",
    "\n",
    "# Functions that might come in handy: np.zeros, np.diag, np.concatenate, luv.max\n",
    "\n",
    "df_axes = pd.DataFrame(...)\n",
    "df_axes[\"label\"] = luv.columns.values\n",
    "\n",
    "ggplot(df, aes(x=\"x\", y=\"y\", color=\"target\")) +\\\n",
    "geom_segment(aes(xend=\"xo\", yend=\"yo\"), data=df_axes, color=\"black\") +\\\n",
    "geom_point() +\\\n",
    "geom_label(aes(label=\"label\"), data=df_axes, color=\"black\") +\\\n",
    "scale_color_identity() +\\\n",
    "theme_void()"
   ]
  }
 ],
 "metadata": {
  "kernelspec": {
   "display_name": "Python 3",
   "language": "python",
   "name": "python3"
  },
  "language_info": {
   "codemirror_mode": {
    "name": "ipython",
    "version": 3
   },
   "file_extension": ".py",
   "mimetype": "text/x-python",
   "name": "python",
   "nbconvert_exporter": "python",
   "pygments_lexer": "ipython3",
   "version": "3.7.6"
  }
 },
 "nbformat": 4,
 "nbformat_minor": 4
}
